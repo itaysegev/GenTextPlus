{
 "cells": [
  {
   "cell_type": "code",
   "execution_count": 1,
   "id": "5cbab703-dca6-4404-a0b1-9c85c0c7f951",
   "metadata": {},
   "outputs": [],
   "source": [
    "import torch\n",
    "import torch.nn.functional as F\n",
    "import matplotlib.pyplot as plt # for making figures\n",
    "%matplotlib inline"
   ]
  },
  {
   "cell_type": "code",
   "execution_count": 2,
   "id": "7d761d32-246d-4478-8814-bc8727a20688",
   "metadata": {},
   "outputs": [
    {
     "data": {
      "text/plain": [
       "['emma', 'olivia', 'ava', 'isabella', 'sophia']"
      ]
     },
     "execution_count": 2,
     "metadata": {},
     "output_type": "execute_result"
    }
   ],
   "source": [
    "words = open('../names.txt').read().splitlines()\n",
    "words[:5]"
   ]
  },
  {
   "cell_type": "code",
   "execution_count": 3,
   "id": "955c2966-aae7-455f-b9e8-9579d520fcc3",
   "metadata": {},
   "outputs": [
    {
     "data": {
      "text/plain": [
       "32033"
      ]
     },
     "execution_count": 3,
     "metadata": {},
     "output_type": "execute_result"
    }
   ],
   "source": [
    "len(words)"
   ]
  },
  {
   "cell_type": "code",
   "execution_count": 4,
   "id": "1da50e4a-5337-4024-8341-3799dce05d3a",
   "metadata": {},
   "outputs": [
    {
     "name": "stdout",
     "output_type": "stream",
     "text": [
      "{1: 'a', 2: 'b', 3: 'c', 4: 'd', 5: 'e', 6: 'f', 7: 'g', 8: 'h', 9: 'i', 10: 'j', 11: 'k', 12: 'l', 13: 'm', 14: 'n', 15: 'o', 16: 'p', 17: 'q', 18: 'r', 19: 's', 20: 't', 21: 'u', 22: 'v', 23: 'w', 24: 'x', 25: 'y', 26: 'z', 0: '.'}\n"
     ]
    }
   ],
   "source": [
    "# build the vocabulary of characters and mappings to/from integers\n",
    "chars = sorted(list(set(''.join(words))))\n",
    "char2idx = {s:i+1 for i,s in enumerate(chars)}\n",
    "char2idx['.'] = 0\n",
    "idx2char = {i:s for s,i in char2idx.items()}\n",
    "print(idx2char)"
   ]
  },
  {
   "cell_type": "code",
   "execution_count": 5,
   "id": "41707521-16e6-4e8d-86d3-2b4953f334f7",
   "metadata": {},
   "outputs": [],
   "source": [
    "# build the dataset\n",
    "X = []\n",
    "Y = []\n",
    "\n",
    "block_size = 3 # Hyper-parameter for context length: how many characters do we take to predict the next one?\n",
    "for w in words[:5]:\n",
    "    chrs = (block_size) * ['.'] + list(w)\n",
    "    for i in range(len(chrs) - block_size + 1):\n",
    "        X.append([char2idx[c] for c in chrs[i: i + block_size]])\n",
    "        idx = char2idx[chrs[i + block_size]] if i + block_size < len(chrs) else char2idx['.']\n",
    "        Y.append(idx)\n",
    "\n",
    "X = torch.tensor(X)\n",
    "Y = torch.tensor(Y)"
   ]
  },
  {
   "cell_type": "code",
   "execution_count": 6,
   "id": "ab4da365-fc81-4b6f-92a8-e236d77294b6",
   "metadata": {},
   "outputs": [
    {
     "data": {
      "text/plain": [
       "(torch.Size([32, 3]), torch.int64, torch.Size([32]), torch.int64)"
      ]
     },
     "execution_count": 6,
     "metadata": {},
     "output_type": "execute_result"
    }
   ],
   "source": [
    "X.shape, X.dtype, Y.shape, Y.dtype"
   ]
  },
  {
   "cell_type": "code",
   "execution_count": 7,
   "id": "05486736-6558-4af8-8724-3b582e2387cd",
   "metadata": {},
   "outputs": [
    {
     "data": {
      "text/plain": [
       "tensor([[ 1.1808,  0.9664],\n",
       "        [-0.1551, -1.6788],\n",
       "        [-0.9211, -0.7622],\n",
       "        [ 0.9402, -2.9359],\n",
       "        [ 0.8507, -0.8136],\n",
       "        [-0.8458, -0.2785],\n",
       "        [ 1.1833, -0.6928],\n",
       "        [-1.6040, -1.1741],\n",
       "        [ 0.9288,  0.5720],\n",
       "        [ 0.1116,  0.0427],\n",
       "        [ 1.9102,  0.3926],\n",
       "        [-0.5713,  0.1444],\n",
       "        [ 0.0515,  1.2955],\n",
       "        [-0.4930, -0.3827],\n",
       "        [-0.0575, -0.9240],\n",
       "        [-0.3734, -0.6004],\n",
       "        [-0.4183, -2.3458],\n",
       "        [-1.3488, -0.5878],\n",
       "        [-0.1250, -1.1005],\n",
       "        [ 1.0250, -0.4665],\n",
       "        [ 2.1382, -2.1478],\n",
       "        [ 0.6013, -1.1904],\n",
       "        [ 0.1499,  1.5670],\n",
       "        [ 0.9119, -0.6861],\n",
       "        [ 0.2352,  0.1070],\n",
       "        [ 1.1419, -0.7843],\n",
       "        [ 1.2273,  1.6142]])"
      ]
     },
     "execution_count": 7,
     "metadata": {},
     "output_type": "execute_result"
    }
   ],
   "source": [
    "embedding_dim = 2\n",
    "C = torch.randn(27, embedding_dim) # Embedding matrices denoted as C in the paper.\n",
    "C # Each character possesses two features."
   ]
  },
  {
   "cell_type": "code",
   "execution_count": 8,
   "id": "1efe43fc-74ed-40dc-913f-4cf8fa52a3ec",
   "metadata": {},
   "outputs": [
    {
     "data": {
      "text/plain": [
       "torch.Size([3, 27])"
      ]
     },
     "execution_count": 8,
     "metadata": {},
     "output_type": "execute_result"
    }
   ],
   "source": [
    "# First method involves one-hot encoding and matrix multiplication.\n",
    "F.one_hot(X[0], num_classes=27).shape"
   ]
  },
  {
   "cell_type": "code",
   "execution_count": 9,
   "id": "0463e785-f042-4e59-9ee9-9e83100b85b2",
   "metadata": {},
   "outputs": [
    {
     "data": {
      "text/plain": [
       "torch.Size([27, 2])"
      ]
     },
     "execution_count": 9,
     "metadata": {},
     "output_type": "execute_result"
    }
   ],
   "source": [
    "C.shape"
   ]
  },
  {
   "cell_type": "code",
   "execution_count": 10,
   "id": "3708d33d-1c16-48cc-9a25-6122854ac58a",
   "metadata": {},
   "outputs": [
    {
     "data": {
      "text/plain": [
       "tensor([-0.8458, -0.2785])"
      ]
     },
     "execution_count": 10,
     "metadata": {},
     "output_type": "execute_result"
    }
   ],
   "source": [
    "F.one_hot(torch.tensor(5), num_classes=27).float() @ C"
   ]
  },
  {
   "cell_type": "code",
   "execution_count": 11,
   "id": "d5008d39-405b-4bab-a397-31aaf15909c1",
   "metadata": {},
   "outputs": [
    {
     "data": {
      "text/plain": [
       "tensor([-0.8458, -0.2785])"
      ]
     },
     "execution_count": 11,
     "metadata": {},
     "output_type": "execute_result"
    }
   ],
   "source": [
    "# Second method involves indexing C matrices, essentially equivalent to the first approach.\n",
    "idx = 5\n",
    "emd = C[5]\n",
    "emd"
   ]
  },
  {
   "cell_type": "code",
   "execution_count": 12,
   "id": "1759af86-bba5-4de0-9be6-778bc6b7aac9",
   "metadata": {},
   "outputs": [],
   "source": [
    "hidden_layer = 100\n",
    "W1 = torch.randn(embedding_dim * block_size, hidden_layer) # embedding_dim * block_size is the number of parameter for each example\n",
    "b1 = torch.randn(hidden_layer)"
   ]
  },
  {
   "cell_type": "code",
   "execution_count": 13,
   "id": "713b5179-2a8f-4835-a73c-4f116853f22d",
   "metadata": {},
   "outputs": [
    {
     "data": {
      "text/plain": [
       "torch.Size([32, 3, 2])"
      ]
     },
     "execution_count": 13,
     "metadata": {},
     "output_type": "execute_result"
    }
   ],
   "source": [
    "emd = C[X]\n",
    "emd.shape"
   ]
  },
  {
   "cell_type": "code",
   "execution_count": 14,
   "id": "ee2361d3-31ee-4bb8-8289-9942dd1969c8",
   "metadata": {},
   "outputs": [
    {
     "data": {
      "text/plain": [
       "torch.Size([6, 100])"
      ]
     },
     "execution_count": 14,
     "metadata": {},
     "output_type": "execute_result"
    }
   ],
   "source": [
    "W1.shape"
   ]
  },
  {
   "cell_type": "code",
   "execution_count": 15,
   "id": "b3d45dad-62a7-45f8-b3f2-803a0f1a9fa3",
   "metadata": {},
   "outputs": [
    {
     "data": {
      "text/plain": [
       "torch.Size([32, 6])"
      ]
     },
     "execution_count": 15,
     "metadata": {},
     "output_type": "execute_result"
    }
   ],
   "source": [
    "torch.cat([emd[:,0,:], emd[:,1,:], emd[:, 2, :]], 1).shape # Not very efficient or scalable."
   ]
  },
  {
   "cell_type": "code",
   "execution_count": 16,
   "id": "15ac3453-a9d8-450b-a557-eb0a6febb8f8",
   "metadata": {},
   "outputs": [
    {
     "data": {
      "text/plain": [
       "torch.Size([32, 6])"
      ]
     },
     "execution_count": 16,
     "metadata": {},
     "output_type": "execute_result"
    }
   ],
   "source": [
    "torch.cat(torch.unbind(emd, dim=1), 1).shape  # Removing a tensor dimension, still not the optimal choice."
   ]
  },
  {
   "cell_type": "code",
   "execution_count": 17,
   "id": "9f1b15fd-8872-4895-867a-b8447df8182d",
   "metadata": {},
   "outputs": [
    {
     "data": {
      "text/plain": [
       "torch.Size([32, 6])"
      ]
     },
     "execution_count": 17,
     "metadata": {},
     "output_type": "execute_result"
    }
   ],
   "source": [
    "emd.view(-1, embedding_dim * block_size).shape # The size -1 is inferred from other dimensions."
   ]
  },
  {
   "cell_type": "code",
   "execution_count": 18,
   "id": "803c7b3b-265c-4a58-9669-42604453e2f7",
   "metadata": {},
   "outputs": [
    {
     "data": {
      "text/plain": [
       "torch.Size([100])"
      ]
     },
     "execution_count": 18,
     "metadata": {},
     "output_type": "execute_result"
    }
   ],
   "source": [
    "b1.shape"
   ]
  },
  {
   "cell_type": "code",
   "execution_count": 19,
   "id": "960557c4-ff92-4a09-a38a-d60c57cc92d4",
   "metadata": {},
   "outputs": [],
   "source": [
    "h = F.tanh(emd.view(-1, embedding_dim * block_size) @ W1 + b1)"
   ]
  },
  {
   "cell_type": "code",
   "execution_count": 20,
   "id": "8fb13e4a-a5dd-4c5a-853f-5482f5bf428d",
   "metadata": {},
   "outputs": [
    {
     "data": {
      "text/plain": [
       "torch.Size([32, 100])"
      ]
     },
     "execution_count": 20,
     "metadata": {},
     "output_type": "execute_result"
    }
   ],
   "source": [
    "h.shape # batch size X hidden layer dim"
   ]
  },
  {
   "cell_type": "code",
   "execution_count": 21,
   "id": "2f10bf7a-6528-4264-b4d8-c00c8e1f566e",
   "metadata": {},
   "outputs": [
    {
     "data": {
      "text/plain": [
       "torch.Size([100, 27])"
      ]
     },
     "execution_count": 21,
     "metadata": {},
     "output_type": "execute_result"
    }
   ],
   "source": [
    "W2 = torch.randn(hidden_layer, len(char2idx)) # Output probability for each character.\n",
    "b2 = torch.randn(len(char2idx))\n",
    "W2.shape"
   ]
  },
  {
   "cell_type": "code",
   "execution_count": 22,
   "id": "55b6ee75-05c2-4544-9e38-b1e54f7d9651",
   "metadata": {},
   "outputs": [
    {
     "data": {
      "text/plain": [
       "torch.Size([32, 27])"
      ]
     },
     "execution_count": 22,
     "metadata": {},
     "output_type": "execute_result"
    }
   ],
   "source": [
    "logits = h @ W2 + b2\n",
    "logits.shape"
   ]
  },
  {
   "cell_type": "code",
   "execution_count": 23,
   "id": "fde463c9-893a-459c-91b2-8a99a716304f",
   "metadata": {},
   "outputs": [
    {
     "data": {
      "text/plain": [
       "tensor(1.)"
      ]
     },
     "execution_count": 23,
     "metadata": {},
     "output_type": "execute_result"
    }
   ],
   "source": [
    "# One approach for obtaining probabilities, as demonstrated earlier.\n",
    "counts = torch.exp(logits)\n",
    "fw_prob = counts / counts.sum(1, keepdims=True)\n",
    "fw_prob[0].sum()"
   ]
  },
  {
   "cell_type": "code",
   "execution_count": 24,
   "id": "890193e4-5f04-48e7-8539-5a0389bc9847",
   "metadata": {},
   "outputs": [
    {
     "data": {
      "text/plain": [
       "tensor(1.0000)"
      ]
     },
     "execution_count": 24,
     "metadata": {},
     "output_type": "execute_result"
    }
   ],
   "source": [
    "# Improved method using Torch's softmax implementation for obtaining probabilities.\n",
    "prob = F.softmax(logits, dim=1).float()\n",
    "prob[0].sum()"
   ]
  },
  {
   "cell_type": "code",
   "execution_count": 25,
   "id": "3dc22ce3-ec38-4364-91e5-35bc6681326c",
   "metadata": {},
   "outputs": [
    {
     "data": {
      "text/plain": [
       "tensor([6.7923e-05, 1.0958e-13, 6.8578e-10, 9.5173e-12, 1.2879e-09, 3.2482e-08,\n",
       "        5.9869e-11, 4.6997e-11, 1.3692e-08, 5.5025e-02, 2.6337e-13, 2.8230e-10,\n",
       "        3.4067e-09, 1.4927e-07, 1.7372e-14, 1.1943e-05, 1.8880e-10, 3.0827e-10,\n",
       "        5.5493e-05, 1.0402e-09, 9.4425e-01, 1.4988e-12, 1.5955e-16, 1.1524e-13,\n",
       "        3.9408e-04, 1.9286e-04, 6.4276e-08])"
      ]
     },
     "execution_count": 25,
     "metadata": {},
     "output_type": "execute_result"
    }
   ],
   "source": [
    "prob[0]"
   ]
  },
  {
   "cell_type": "code",
   "execution_count": 26,
   "id": "b5676001-69b0-4b1c-820a-e35fc0f2f578",
   "metadata": {},
   "outputs": [
    {
     "data": {
      "text/plain": [
       "tensor([6.7923e-05, 1.0958e-13, 6.8578e-10, 9.5173e-12, 1.2879e-09, 3.2482e-08,\n",
       "        5.9869e-11, 4.6997e-11, 1.3692e-08, 5.5025e-02, 2.6337e-13, 2.8230e-10,\n",
       "        3.4067e-09, 1.4927e-07, 1.7372e-14, 1.1943e-05, 1.8880e-10, 3.0827e-10,\n",
       "        5.5493e-05, 1.0402e-09, 9.4425e-01, 1.4988e-12, 1.5955e-16, 1.1524e-13,\n",
       "        3.9408e-04, 1.9286e-04, 6.4276e-08])"
      ]
     },
     "execution_count": 26,
     "metadata": {},
     "output_type": "execute_result"
    }
   ],
   "source": [
    "fw_prob[0] "
   ]
  },
  {
   "cell_type": "code",
   "execution_count": 27,
   "id": "36093f75-8fa4-4173-9eea-d2a6614c6f36",
   "metadata": {},
   "outputs": [
    {
     "data": {
      "text/plain": [
       "32"
      ]
     },
     "execution_count": 27,
     "metadata": {},
     "output_type": "execute_result"
    }
   ],
   "source": [
    "X.shape[0]"
   ]
  },
  {
   "cell_type": "code",
   "execution_count": 28,
   "id": "9cdac2a5-51e2-4488-b8fb-3b1562dffe69",
   "metadata": {},
   "outputs": [
    {
     "data": {
      "text/plain": [
       "tensor(12.5616)"
      ]
     },
     "execution_count": 28,
     "metadata": {},
     "output_type": "execute_result"
    }
   ],
   "source": [
    "# Manual implementation of the loss function\n",
    "loss = -prob[torch.arange(X.shape[0]), Y].log().mean()\n",
    "loss"
   ]
  },
  {
   "cell_type": "code",
   "execution_count": 29,
   "id": "18df2f0f-745f-43d2-8fe9-33abb0ef837e",
   "metadata": {},
   "outputs": [
    {
     "data": {
      "text/plain": [
       "tensor(12.5616)"
      ]
     },
     "execution_count": 29,
     "metadata": {},
     "output_type": "execute_result"
    }
   ],
   "source": [
    "# Loss function implemented using cross-entropy \n",
    "loss = F.cross_entropy(logits, Y)\n",
    "loss"
   ]
  },
  {
   "cell_type": "code",
   "execution_count": 30,
   "id": "f6f26ffc-8790-44c1-8e66-7994356edb90",
   "metadata": {},
   "outputs": [],
   "source": [
    "# Utilize PyTorch's built-in functions for better efficiency\n",
    "# Improved forward pass, avoiding new tensor creation\n",
    "# Enhanced backward pass with direct calculation, improving efficiency\n",
    "# Overall, more numerically efficient\n"
   ]
  },
  {
   "cell_type": "code",
   "execution_count": 31,
   "id": "e9d53d2f-4f56-4da6-9dcb-624cd510e3a1",
   "metadata": {},
   "outputs": [
    {
     "data": {
      "text/plain": [
       "(torch.Size([32, 3]), torch.Size([32]))"
      ]
     },
     "execution_count": 31,
     "metadata": {},
     "output_type": "execute_result"
    }
   ],
   "source": [
    "X.shape, Y.shape"
   ]
  },
  {
   "cell_type": "code",
   "execution_count": 32,
   "id": "e973c965-6332-4d19-82b6-12e9f229b2cf",
   "metadata": {},
   "outputs": [
    {
     "data": {
      "text/plain": [
       "3481"
      ]
     },
     "execution_count": 32,
     "metadata": {},
     "output_type": "execute_result"
    }
   ],
   "source": [
    "C = torch.randn(27, embedding_dim)\n",
    "W1 = torch.randn(embedding_dim * block_size, hidden_layer) # embedding_dim * block_size is the number of parameter for each example\n",
    "b1 = torch.randn(hidden_layer)\n",
    "W2 = torch.randn(hidden_layer, len(char2idx)) # output propabily for each char\n",
    "b2 = torch.randn(len(char2idx))\n",
    "parameters = [C, W1, b1, W2, b2]\n",
    "sum(p.nelement() for p in parameters)"
   ]
  },
  {
   "cell_type": "code",
   "execution_count": 33,
   "id": "174f925b-2f5a-4561-82a9-4312f8d50217",
   "metadata": {},
   "outputs": [
    {
     "name": "stdout",
     "output_type": "stream",
     "text": [
      "0.3264015316963196\n"
     ]
    }
   ],
   "source": [
    "# Let's train\n",
    "lr = 0.1\n",
    "for p in parameters:\n",
    "    p.requires_grad = True\n",
    "\n",
    "for _ in range(100):\n",
    "    # forward pass\n",
    "    emd = C[X] # (32, 3, 2)\n",
    "    h = F.tanh(emd.view(-1, embedding_dim * block_size) @ W1 + b1) # (32, 100)\n",
    "    logits = h @ W2 + b2 # (32, 27)\n",
    "    loss = F.cross_entropy(logits, Y)\n",
    "    # backward pass\n",
    "    for p in parameters:\n",
    "        p.grad = None\n",
    "    loss.backward()\n",
    "    # update parametrs\n",
    "    for p in parameters:\n",
    "        p.data += -lr * p.grad\n",
    "\n",
    "print(loss.item())\n",
    "    \n"
   ]
  },
  {
   "cell_type": "code",
   "execution_count": 34,
   "id": "28bf60f9-20f3-432a-b599-8e8c3c669085",
   "metadata": {},
   "outputs": [
    {
     "data": {
      "text/plain": [
       "torch.return_types.max(\n",
       "values=tensor([ 8.2522,  9.3012, 10.2504,  7.2955, 12.5157,  8.2522, 12.6247, 11.2400,\n",
       "        11.5065, 13.8197, 17.1205, 14.9500,  8.2522, 12.6599, 12.5141, 12.2135,\n",
       "         8.2522, 13.7327, 15.8803, 14.6567, 18.4300, 12.2214, 15.6800, 10.6811,\n",
       "        14.9392,  8.2522, 16.8662, 15.4013, 10.9107, 14.8508, 12.0538, 15.2189],\n",
       "       grad_fn=<MaxBackward0>),\n",
       "indices=tensor([ 1, 13, 13,  1,  0,  1, 12,  9, 22,  9,  1,  0,  1, 22,  1,  0,  1, 19,\n",
       "         1,  2,  5, 12, 12,  1,  0,  1, 15, 16,  8,  9,  1,  0]))"
      ]
     },
     "execution_count": 34,
     "metadata": {},
     "output_type": "execute_result"
    }
   ],
   "source": [
    "# Facing overfitting with a small dataset (only 32 samples)\n",
    "# Challenge in reaching loss=0 due to varied targets for each '...' example\n",
    "logits.max(1)"
   ]
  },
  {
   "cell_type": "code",
   "execution_count": 35,
   "id": "0c252dbf-d7ae-420f-8488-b5b8d762f23f",
   "metadata": {},
   "outputs": [
    {
     "data": {
      "text/plain": [
       "tensor([ 5, 13, 13,  1,  0, 15, 12,  9, 22,  9,  1,  0,  1, 22,  1,  0,  9, 19,\n",
       "         1,  2,  5, 12, 12,  1,  0, 19, 15, 16,  8,  9,  1,  0])"
      ]
     },
     "execution_count": 35,
     "metadata": {},
     "output_type": "execute_result"
    }
   ],
   "source": [
    "Y"
   ]
  },
  {
   "cell_type": "code",
   "execution_count": 36,
   "id": "83ffe0c4-12ec-4ca4-82af-664fc3b50054",
   "metadata": {},
   "outputs": [
    {
     "data": {
      "text/plain": [
       "(torch.Size([228146, 3]), torch.Size([228146]))"
      ]
     },
     "execution_count": 36,
     "metadata": {},
     "output_type": "execute_result"
    }
   ],
   "source": [
    "# Let's train over the whole dataset while using batches\n",
    "# build the dataset\n",
    "X = []\n",
    "Y = []\n",
    "\n",
    "block_size = 3 # Hyper-parameter for context length: how many characters do we take to predict the next one?\n",
    "for w in words:\n",
    "    chrs = (block_size) * ['.'] + list(w)\n",
    "    for i in range(len(chrs) - block_size + 1):\n",
    "        X.append([char2idx[c] for c in chrs[i: i + block_size]])\n",
    "        idx = char2idx[chrs[i + block_size]] if i + block_size < len(chrs) else char2idx['.']\n",
    "        Y.append(idx)\n",
    "\n",
    "X = torch.tensor(X)\n",
    "Y = torch.tensor(Y)\n",
    "X.shape, Y.shape"
   ]
  },
  {
   "cell_type": "code",
   "execution_count": 37,
   "id": "726e94d3-1a2c-4336-b599-0038e6321eb2",
   "metadata": {},
   "outputs": [
    {
     "data": {
      "text/plain": [
       "3481"
      ]
     },
     "execution_count": 37,
     "metadata": {},
     "output_type": "execute_result"
    }
   ],
   "source": [
    "C = torch.randn(len(char2idx), embedding_dim)\n",
    "W1 = torch.randn(embedding_dim * block_size, hidden_layer) # embedding_dim * block_size is the number of parameter for each example\n",
    "b1 = torch.randn(hidden_layer)\n",
    "W2 = torch.randn(hidden_layer, len(char2idx)) # Output probability for each character\n",
    "b2 = torch.randn(len(char2idx))\n",
    "parameters = [C, W1, b1, W2, b2]\n",
    "sum(p.nelement() for p in parameters)"
   ]
  },
  {
   "cell_type": "code",
   "execution_count": 38,
   "id": "5046c8b0-6879-48eb-9898-62442aa7a25d",
   "metadata": {},
   "outputs": [
    {
     "name": "stdout",
     "output_type": "stream",
     "text": [
      "2.7184481620788574\n"
     ]
    }
   ],
   "source": [
    "# Let's train\n",
    "lr = 0.1\n",
    "for p in parameters:\n",
    "    p.requires_grad = True\n",
    "\n",
    "for _ in range(1_000):\n",
    "    # minibatch construct\n",
    "    ix = torch.randint(0, X.shape[0], (32,)) # batch size of 32\n",
    "    # forward pass\n",
    "    emd = C[X[ix]] # (32, 3, 2)\n",
    "    h = F.tanh(emd.view(-1, embedding_dim * block_size) @ W1 + b1) # (32, 100)\n",
    "    logits = h @ W2 + b2 # (32, 27)\n",
    "    loss = F.cross_entropy(logits, Y[ix])\n",
    "    # backward pass\n",
    "    for p in parameters:\n",
    "        p.grad = None\n",
    "    loss.backward()\n",
    "    # update parametrs\n",
    "    for p in parameters:\n",
    "        p.data += -lr * p.grad\n",
    "\n",
    "print(loss.item())"
   ]
  },
  {
   "cell_type": "code",
   "execution_count": 39,
   "id": "2503aa9d-79e0-4a23-b46f-32a5b5cc383d",
   "metadata": {},
   "outputs": [],
   "source": [
    "# finding a descent learning rate\n",
    "lrs = 10**torch.linspace(-3, 0, 1000)\n",
    "\n",
    "lri = []\n",
    "lossi = []\n",
    "stepi = []\n",
    "\n",
    "for p in parameters:\n",
    "    p.requires_grad = True\n",
    "\n",
    "for i in range(1_000):\n",
    "    # minibatch construct\n",
    "    ix = torch.randint(0, X.shape[0], (32,)) # batch size of 32\n",
    "    # forward pass\n",
    "    emd = C[X[ix]] # (32, 3, 2)\n",
    "    h = F.tanh(emd.view(-1, embedding_dim * block_size) @ W1 + b1) # (32, 100)\n",
    "    logits = h @ W2 + b2 # (32, 27)\n",
    "    loss = F.cross_entropy(logits, Y[ix])\n",
    "    # backward pass\n",
    "    for p in parameters:\n",
    "        p.grad = None\n",
    "    loss.backward()\n",
    "    # update parametrs\n",
    "    lr = lrs[i]\n",
    "    for p in parameters:\n",
    "        p.data += -lr * p.grad\n",
    "    #track stats\n",
    "    lri.append(lr)\n",
    "    lossi.append(loss.item())\n"
   ]
  },
  {
   "cell_type": "code",
   "execution_count": 41,
   "id": "5dfb6dc9-1ca0-4461-82f3-8f153373a610",
   "metadata": {},
   "outputs": [
    {
     "data": {
      "text/plain": [
       "3481"
      ]
     },
     "execution_count": 41,
     "metadata": {},
     "output_type": "execute_result"
    }
   ],
   "source": [
    "C = torch.randn(len(char2idx), embedding_dim)\n",
    "W1 = torch.randn(embedding_dim * block_size, hidden_layer) # embedding_dim * block_size is the number of parameter for each example\n",
    "b1 = torch.randn(hidden_layer)\n",
    "W2 = torch.randn(hidden_layer, len(char2idx)) # Output probability for each character\n",
    "b2 = torch.randn(len(char2idx))\n",
    "parameters = [C, W1, b1, W2, b2]\n",
    "sum(p.nelement() for p in parameters)"
   ]
  },
  {
   "cell_type": "code",
   "execution_count": 42,
   "id": "0ec00074-e874-453f-8cbd-0290830bf563",
   "metadata": {},
   "outputs": [
    {
     "name": "stdout",
     "output_type": "stream",
     "text": [
      "torch.Size([182341, 3]) torch.Size([182341])\n",
      "torch.Size([23015, 3]) torch.Size([23015])\n",
      "torch.Size([22790, 3]) torch.Size([22790])\n"
     ]
    }
   ],
   "source": [
    "def build_dataset(words): \n",
    "    X = []\n",
    "    Y = []\n",
    "    \n",
    "    for w in words:\n",
    "        chrs = (block_size) * ['.'] + list(w)\n",
    "        for i in range(len(chrs) - block_size + 1):\n",
    "            X.append([char2idx[c] for c in chrs[i: i + block_size]])\n",
    "            idx = char2idx[chrs[i + block_size]] if i + block_size < len(chrs) else char2idx['.']\n",
    "            Y.append(idx)\n",
    "    \n",
    "    X = torch.tensor(X)\n",
    "    Y = torch.tensor(Y)\n",
    "    print(X.shape, Y.shape)\n",
    "    return X, Y\n",
    "\n",
    "import random\n",
    "random.shuffle(words)\n",
    "# split the data to 80% training, 10% validation, 10% testing\n",
    "n1 = int(0.8*len(words))\n",
    "n2 = int(0.9*len(words))\n",
    "\n",
    "Xtr, Ytr = build_dataset(words[:n1])\n",
    "Xval, Yval = build_dataset(words[n1:n2])\n",
    "Xte, Yte = build_dataset(words[n2:])"
   ]
  },
  {
   "cell_type": "code",
   "execution_count": 43,
   "id": "366133d0-28d3-4fd4-931a-0ed76fc78f30",
   "metadata": {},
   "outputs": [],
   "source": [
    "# Adding lr decay and train only on Xtr\n",
    "lossi = []\n",
    "stepi = []\n",
    "for p in parameters:\n",
    "    p.requires_grad = True\n",
    "\n",
    "for i in range(30_000):\n",
    "    # minibatch construct\n",
    "    ix = torch.randint(0, Xtr.shape[0], (32,)) # batch size of 32\n",
    "    # forward pass\n",
    "    emd = C[Xtr[ix]] \n",
    "    h = F.tanh(emd.view(-1, embedding_dim * block_size) @ W1 + b1) \n",
    "    logits = h @ W2 + b2\n",
    "    loss = F.cross_entropy(logits, Ytr[ix])\n",
    "    # backward pass\n",
    "    for p in parameters:\n",
    "        p.grad = None\n",
    "    loss.backward()\n",
    "    # update parametrs\n",
    "    lr = 0.1 if i < 100000 else 0.01\n",
    "    for p in parameters:\n",
    "        p.data += -lr * p.grad\n",
    "    # track stats\n",
    "    lossi.append(loss.log10().item())\n",
    "    stepi.append(i)"
   ]
  },
  {
   "cell_type": "code",
   "execution_count": 44,
   "id": "78bda91b-30e4-40cc-95ff-167d106f601a",
   "metadata": {},
   "outputs": [
    {
     "name": "stdout",
     "output_type": "stream",
     "text": [
      "torch.Size([182341, 100])\n",
      "torch.Size([182341, 27])\n"
     ]
    },
    {
     "data": {
      "text/plain": [
       "tensor(2.3877, grad_fn=<NllLossBackward0>)"
      ]
     },
     "execution_count": 44,
     "metadata": {},
     "output_type": "execute_result"
    }
   ],
   "source": [
    "emd = C[Xtr]\n",
    "\n",
    "h = F.tanh(emd.view(-1, embedding_dim * block_size) @ W1 + b1)\n",
    "print(h.shape)\n",
    "logits = h @ W2 + b2 \n",
    "print(logits.shape)\n",
    "loss = F.cross_entropy(logits, Ytr)\n",
    "loss"
   ]
  },
  {
   "cell_type": "code",
   "execution_count": 45,
   "id": "81d51dc5-e26c-4276-bc63-bb8d1a389bac",
   "metadata": {},
   "outputs": [
    {
     "data": {
      "text/plain": [
       "tensor(2.3854, grad_fn=<NllLossBackward0>)"
      ]
     },
     "execution_count": 45,
     "metadata": {},
     "output_type": "execute_result"
    }
   ],
   "source": [
    "# evaluating the results\n",
    "emd = C[Xval] # (32, 3, 2)\n",
    "h = F.tanh(emd.view(-1, embedding_dim * block_size) @ W1 + b1) # (32, 100)\n",
    "logits = h @ W2 + b2 # (32, 27)\n",
    "loss = F.cross_entropy(logits, Yval)\n",
    "loss\n"
   ]
  },
  {
   "cell_type": "code",
   "execution_count": 46,
   "id": "8e126ac1-7f75-4a74-b185-8db469277efe",
   "metadata": {},
   "outputs": [],
   "source": [
    "# Similar loss in both training and validation indicates underfitting\n",
    "# To address this, consider enhancing model complexity by adjusting hyperparameters\n"
   ]
  },
  {
   "cell_type": "code",
   "execution_count": 47,
   "id": "1692adea-7389-4897-868a-62337b5bc785",
   "metadata": {},
   "outputs": [
    {
     "data": {
      "text/plain": [
       "[<matplotlib.lines.Line2D at 0x12d27b41a90>]"
      ]
     },
     "execution_count": 47,
     "metadata": {},
     "output_type": "execute_result"
    },
    {
     "data": {
      "image/png": "[encoded data removed]",
      "text/plain": [
       "<Figure size 640x480 with 1 Axes>"
      ]
     },
     "metadata": {},
     "output_type": "display_data"
    }
   ],
   "source": [
    "plt.plot(stepi, lossi)"
   ]
  },
  {
   "cell_type": "code",
   "execution_count": 48,
   "id": "200e6959-eab5-4749-9ba2-82e1394d1d86",
   "metadata": {},
   "outputs": [],
   "source": [
    "# The noise (thicknes) stems from the batch which adds noise to the optimization on account of speed"
   ]
  },
  {
   "cell_type": "code",
   "execution_count": 50,
   "id": "b4863a82-a07d-4d13-ba83-76872da2f009",
   "metadata": {},
   "outputs": [
    {
     "data": {
      "image/png": "[encoded data removed]",
      "text/plain": [
       "<Figure size 800x800 with 1 Axes>"
      ]
     },
     "metadata": {},
     "output_type": "display_data"
    }
   ],
   "source": [
    "# visualize dimensions 0 and 1 of the embedding matrix C for all characters\n",
    "plt.figure(figsize=(8,8))\n",
    "plt.scatter(C[:,0].data, C[:,1].data, s=200)\n",
    "for i in range(C.shape[0]):\n",
    "    plt.text(C[i,0].item(), C[i,1].item(), idx2char[i], ha=\"center\", va=\"center\", color='white')\n",
    "plt.grid('minor')"
   ]
  },
  {
   "cell_type": "code",
   "execution_count": 51,
   "id": "3125f9bd-9e73-4c10-8131-be1d8899b23f",
   "metadata": {},
   "outputs": [],
   "source": [
    "# It seems like there is some learning proccess in the embedding metrics"
   ]
  },
  {
   "cell_type": "code",
   "execution_count": 52,
   "id": "411d6931-4d27-45c7-a5ba-f5f6e5627b76",
   "metadata": {},
   "outputs": [],
   "source": [
    "block_size = 3\n",
    "hidden_layer = 200\n",
    "embedding_dim = 10"
   ]
  },
  {
   "cell_type": "code",
   "execution_count": 53,
   "id": "7dd41108-f566-4202-88a1-8f642622e642",
   "metadata": {},
   "outputs": [
    {
     "data": {
      "text/plain": [
       "11897"
      ]
     },
     "execution_count": 53,
     "metadata": {},
     "output_type": "execute_result"
    }
   ],
   "source": [
    "C = torch.randn(27, embedding_dim)\n",
    "W1 = torch.randn(embedding_dim * block_size, hidden_layer) # embedding_dim * block_size is the number of parameter for each example\n",
    "b1 = torch.randn(hidden_layer)\n",
    "W2 = torch.randn(hidden_layer, len(char2idx)) # output propabily for each char\n",
    "b2 = torch.randn(len(char2idx))\n",
    "parameters = [C, W1, b1, W2, b2]\n",
    "sum(p.nelement() for p in parameters)"
   ]
  },
  {
   "cell_type": "code",
   "execution_count": 54,
   "id": "cc70b754-5cbb-4915-af74-027d9a4e0508",
   "metadata": {},
   "outputs": [],
   "source": [
    "lossi = []\n",
    "stepi = []\n",
    "for p in parameters:\n",
    "    p.requires_grad = True\n",
    "\n",
    "for i in range(50_000):\n",
    "    # minibatch construct\n",
    "    ix = torch.randint(0, Xtr.shape[0], (32,)) # batch size of 32\n",
    "    # forward pass\n",
    "    emd = C[Xtr[ix]] \n",
    "    h = F.tanh(emd.view(-1, embedding_dim * block_size) @ W1 + b1) \n",
    "    logits = h @ W2 + b2\n",
    "    loss = F.cross_entropy(logits, Ytr[ix])\n",
    "    # backward pass\n",
    "    for p in parameters:\n",
    "        p.grad = None\n",
    "    loss.backward()\n",
    "    # update parametrs\n",
    "    lr = 0.1 if i < 100000 else 0.01\n",
    "    for p in parameters:\n",
    "        p.data += -lr * p.grad\n",
    "    # track stats\n",
    "    lossi.append(loss.log10().item())\n",
    "    stepi.append(i)"
   ]
  },
  {
   "cell_type": "code",
   "execution_count": 55,
   "id": "1d712e4c-d165-4b93-b3ad-c3afeb83ba50",
   "metadata": {},
   "outputs": [
    {
     "data": {
      "text/plain": [
       "[<matplotlib.lines.Line2D at 0x12d2aef4bb0>]"
      ]
     },
     "execution_count": 55,
     "metadata": {},
     "output_type": "execute_result"
    },
    {
     "data": {
      "image/png": "[encoded data removed]",
      "text/plain": [
       "<Figure size 640x480 with 1 Axes>"
      ]
     },
     "metadata": {},
     "output_type": "display_data"
    }
   ],
   "source": [
    "plt.plot(stepi, lossi)"
   ]
  },
  {
   "cell_type": "code",
   "execution_count": 56,
   "id": "96185a35-3c46-40d7-b5a1-dcd66812675f",
   "metadata": {},
   "outputs": [
    {
     "name": "stdout",
     "output_type": "stream",
     "text": [
      "torch.Size([182341, 200])\n",
      "torch.Size([182341, 27])\n"
     ]
    },
    {
     "data": {
      "text/plain": [
       "tensor(2.2924, grad_fn=<NllLossBackward0>)"
      ]
     },
     "execution_count": 56,
     "metadata": {},
     "output_type": "execute_result"
    }
   ],
   "source": [
    "emd = C[Xtr]\n",
    "\n",
    "h = F.tanh(emd.view(-1, embedding_dim * block_size) @ W1 + b1)\n",
    "print(h.shape)\n",
    "logits = h @ W2 + b2 \n",
    "print(logits.shape)\n",
    "loss = F.cross_entropy(logits, Ytr)\n",
    "loss"
   ]
  },
  {
   "cell_type": "code",
   "execution_count": 57,
   "id": "c6ec1338-4665-4790-95b6-a0bdd95ce3e9",
   "metadata": {},
   "outputs": [
    {
     "data": {
      "text/plain": [
       "tensor(2.3190, grad_fn=<NllLossBackward0>)"
      ]
     },
     "execution_count": 57,
     "metadata": {},
     "output_type": "execute_result"
    }
   ],
   "source": [
    "# evaluating the results\n",
    "emd = C[Xval] # (32, 3, 2)\n",
    "h = F.tanh(emd.view(-1, embedding_dim * block_size) @ W1 + b1) # (32, 100)\n",
    "logits = h @ W2 + b2 # (32, 27)\n",
    "loss = F.cross_entropy(logits, Yval)\n",
    "loss"
   ]
  },
  {
   "cell_type": "code",
   "execution_count": 58,
   "id": "ab90eab6-0115-4e32-9eb1-89b71754746a",
   "metadata": {},
   "outputs": [],
   "source": [
    "# Divergence in training and validation loss suggests potential overfitting\n"
   ]
  },
  {
   "cell_type": "code",
   "execution_count": 59,
   "id": "a3cd813e-8f3d-42da-a92c-17d125f8ad77",
   "metadata": {},
   "outputs": [
    {
     "name": "stdout",
     "output_type": "stream",
     "text": [
      "milynn.\n",
      "ezma.\n",
      "salaylie.\n",
      "yuodlyn.\n",
      "elrene.\n",
      "lyn.\n",
      "reilaedyn.\n",
      "vackes.\n",
      "lenr.\n",
      "eulia.\n",
      "happionnandingenj.\n",
      "walle.\n",
      "nakan.\n",
      "eveimoniadyneens.\n",
      "genmaraalyn.\n",
      "ine.\n",
      "manzeyano.\n",
      "hean.\n",
      "lul.\n",
      "leas.\n"
     ]
    }
   ],
   "source": [
    "# sample from the model\n",
    "for _ in range(20):\n",
    "    out = []\n",
    "    context = [0] * block_size # initialize with all ...\n",
    "    while True:\n",
    "      emb = C[torch.tensor([context])] # (1,block_size,d) only working with single dim\n",
    "      h = torch.tanh(emb.view(1, -1) @ W1 + b1)\n",
    "      logits = h @ W2 + b2\n",
    "      probs = F.softmax(logits, dim=1)\n",
    "      ix = torch.multinomial(probs, num_samples=1).item()\n",
    "      context = context[1:] + [ix]\n",
    "      out.append(ix)\n",
    "      if ix == 0:\n",
    "        break\n",
    "    \n",
    "    print(''.join(idx2char[i] for i in out))"
   ]
  },
  {
   "cell_type": "code",
   "execution_count": null,
   "id": "9b48ad15-17f6-4488-b453-e83a4b094fdf",
   "metadata": {},
   "outputs": [],
   "source": []
  }
 ],
 "metadata": {
  "kernelspec": {
   "display_name": "Python 3 (ipykernel)",
   "language": "python",
   "name": "python3"
  },
  "language_info": {
   "codemirror_mode": {
    "name": "ipython",
    "version": 3
   },
   "file_extension": ".py",
   "mimetype": "text/x-python",
   "name": "python",
   "nbconvert_exporter": "python",
   "pygments_lexer": "ipython3",
   "version": "3.8.18"
  }
 },
 "nbformat": 4,
 "nbformat_minor": 5
}
